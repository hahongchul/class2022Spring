{
  "nbformat": 4,
  "nbformat_minor": 0,
  "metadata": {
    "colab": {
      "provenance": [],
      "authorship_tag": "ABX9TyPvyGSTBv7oqrf5EeFnEFYl",
      "include_colab_link": true
    },
    "kernelspec": {
      "name": "python3",
      "display_name": "Python 3"
    },
    "language_info": {
      "name": "python"
    }
  },
  "cells": [
    {
      "cell_type": "markdown",
      "metadata": {
        "id": "view-in-github",
        "colab_type": "text"
      },
      "source": [
        "<a href=\"https://colab.research.google.com/github/hahongchul/class2022Spring/blob/main/NAMZ_Python%EC%97%B0%EC%8A%B5.ipynb\" target=\"_parent\"><img src=\"https://colab.research.google.com/assets/colab-badge.svg\" alt=\"Open In Colab\"/></a>"
      ]
    },
    {
      "cell_type": "code",
      "execution_count": 1,
      "metadata": {
        "id": "cix0HFfa75gD"
      },
      "outputs": [],
      "source": [
        "import numpy as np\n",
        "import matplotlib.pyplot as plt"
      ]
    },
    {
      "cell_type": "code",
      "source": [
        "plt.figure()"
      ],
      "metadata": {
        "colab": {
          "base_uri": "https://localhost:8080/",
          "height": 53
        },
        "id": "GoFINlTI98JD",
        "outputId": "015c5a1e-4ea0-434b-df59-980f3b6cd4ba"
      },
      "execution_count": 2,
      "outputs": [
        {
          "output_type": "execute_result",
          "data": {
            "text/plain": [
              "<Figure size 640x480 with 0 Axes>"
            ]
          },
          "metadata": {},
          "execution_count": 2
        },
        {
          "output_type": "display_data",
          "data": {
            "text/plain": [
              "<Figure size 640x480 with 0 Axes>"
            ]
          },
          "metadata": {}
        }
      ]
    },
    {
      "cell_type": "code",
      "source": [
        "theta1 = np.linspace(0, 2*np.pi, 100)\n",
        "s1 = np.sin(theta1)\n",
        "\n",
        "theta2 = np.linspace(0, 2*np.pi, 100) + np.pi/2\n",
        "s2 = np.sin(theta2)\n",
        "\n",
        "plt.subplot(2,1,1)\n",
        "plt.plot(theta1, s1, '.')\n",
        "\n",
        "plt.subplot(2,1,2)\n",
        "plt.plot(theta2, s2, '.')"
      ],
      "metadata": {
        "colab": {
          "base_uri": "https://localhost:8080/",
          "height": 448
        },
        "id": "T4j2IlIr9-xp",
        "outputId": "736fe21b-6a2b-4d28-8d59-3888548c0721"
      },
      "execution_count": 6,
      "outputs": [
        {
          "output_type": "execute_result",
          "data": {
            "text/plain": [
              "[<matplotlib.lines.Line2D at 0x7f51e592ca60>]"
            ]
          },
          "metadata": {},
          "execution_count": 6
        },
        {
          "output_type": "display_data",
          "data": {
            "text/plain": [
              "<Figure size 640x480 with 2 Axes>"
            ],
            "image/png": "[encoded data removed]"
          },
          "metadata": {}
        }
      ]
    },
    {
      "cell_type": "code",
      "source": [
        "np.corrcoef(s1, s2)"
      ],
      "metadata": {
        "colab": {
          "base_uri": "https://localhost:8080/"
        },
        "id": "U4c_NILn-eHx",
        "outputId": "64b2eba7-3898-4a40-c0b1-c405e8a55ac7"
      },
      "execution_count": 7,
      "outputs": [
        {
          "output_type": "execute_result",
          "data": {
            "text/plain": [
              "array([[1.00000000e+00, 2.41915449e-17],\n",
              "       [2.41915449e-17, 1.00000000e+00]])"
            ]
          },
          "metadata": {},
          "execution_count": 7
        }
      ]
    },
    {
      "cell_type": "code",
      "source": [
        "x = np.array([1,2,3])\n",
        "print(x)\n",
        "print(type(x))\n",
        "print(x.shape)"
      ],
      "metadata": {
        "colab": {
          "base_uri": "https://localhost:8080/"
        },
        "id": "tpnTuhJU-ll5",
        "outputId": "29fa60b9-c339-45fd-cd35-36ed1e7f2671"
      },
      "execution_count": 8,
      "outputs": [
        {
          "output_type": "stream",
          "name": "stdout",
          "text": [
            "[1 2 3]\n",
            "<class 'numpy.ndarray'>\n",
            "(3,)\n"
          ]
        }
      ]
    },
    {
      "cell_type": "code",
      "source": [
        "x = np.arange(0, 10, 2)\n",
        "print(x)\n",
        "print(type(x))\n",
        "print(x.shape)"
      ],
      "metadata": {
        "colab": {
          "base_uri": "https://localhost:8080/"
        },
        "id": "hfGTkNeO_yDa",
        "outputId": "d6dc0f50-102e-4c44-e8a5-8963e58c0781"
      },
      "execution_count": 9,
      "outputs": [
        {
          "output_type": "stream",
          "name": "stdout",
          "text": [
            "[0 2 4 6 8]\n",
            "<class 'numpy.ndarray'>\n",
            "(5,)\n"
          ]
        }
      ]
    },
    {
      "cell_type": "code",
      "source": [
        "x = np.linspace(0, 10, 6)\n",
        "print(x)\n",
        "print(type(x))\n",
        "print(x.shape)"
      ],
      "metadata": {
        "colab": {
          "base_uri": "https://localhost:8080/"
        },
        "id": "fuKHDzn1_57J",
        "outputId": "d7acde59-b2a5-4a41-b76c-e2bab06c0974"
      },
      "execution_count": 12,
      "outputs": [
        {
          "output_type": "stream",
          "name": "stdout",
          "text": [
            "[ 0.  2.  4.  6.  8. 10.]\n",
            "<class 'numpy.ndarray'>\n",
            "(6,)\n"
          ]
        }
      ]
    },
    {
      "cell_type": "code",
      "source": [
        "x = np.array([[1,2,3], [4,5,6]])\n",
        "print(x)\n",
        "print(type(x))\n",
        "print(x.shape)"
      ],
      "metadata": {
        "colab": {
          "base_uri": "https://localhost:8080/"
        },
        "id": "6HBDWxHcHQxY",
        "outputId": "8c5ca935-a748-495c-d47c-9c1d28df54ca"
      },
      "execution_count": 13,
      "outputs": [
        {
          "output_type": "stream",
          "name": "stdout",
          "text": [
            "[[1 2 3]\n",
            " [4 5 6]]\n",
            "<class 'numpy.ndarray'>\n",
            "(2, 3)\n"
          ]
        }
      ]
    },
    {
      "cell_type": "code",
      "source": [
        "x = np.ones([2,2,3])\n",
        "print(x)\n",
        "print(type(x))\n",
        "print(x.shape)"
      ],
      "metadata": {
        "colab": {
          "base_uri": "https://localhost:8080/"
        },
        "id": "j9LJPLjiHpGJ",
        "outputId": "8f4c223e-496c-41cf-a205-61465c8bab5a"
      },
      "execution_count": 14,
      "outputs": [
        {
          "output_type": "stream",
          "name": "stdout",
          "text": [
            "[[[1. 1. 1.]\n",
            "  [1. 1. 1.]]\n",
            "\n",
            " [[1. 1. 1.]\n",
            "  [1. 1. 1.]]]\n",
            "<class 'numpy.ndarray'>\n",
            "(2, 2, 3)\n"
          ]
        }
      ]
    },
    {
      "cell_type": "code",
      "source": [
        "np.random.normal([2,3,4])"
      ],
      "metadata": {
        "colab": {
          "base_uri": "https://localhost:8080/"
        },
        "id": "CMTKgcocIbSJ",
        "outputId": "3a601a65-ffec-41a6-9d22-a944a323495c"
      },
      "execution_count": 15,
      "outputs": [
        {
          "output_type": "execute_result",
          "data": {
            "text/plain": [
              "array([0.72043576, 3.82559414, 5.42811295])"
            ]
          },
          "metadata": {},
          "execution_count": 15
        }
      ]
    },
    {
      "cell_type": "code",
      "source": [
        "x = np.random.normal(0, 1, 100)\n",
        "print(x)\n",
        "print(x.shape)\n",
        "plt.hist(x, bins=20)"
      ],
      "metadata": {
        "colab": {
          "base_uri": "https://localhost:8080/",
          "height": 902
        },
        "id": "x35iR3N-Iln4",
        "outputId": "bef2812f-e50f-4bef-9962-3a28be526897"
      },
      "execution_count": 21,
      "outputs": [
        {
          "output_type": "stream",
          "name": "stdout",
          "text": [
            "[-1.01349834  0.86707528  0.29495759  0.00649253 -0.82267628  0.75598347\n",
            " -0.58383359 -0.99813711 -1.86620822 -0.06481312  0.76737692 -1.42475024\n",
            "  0.30265023  0.39186033  1.65537211 -1.75366764  1.2986683   0.80197202\n",
            " -1.1489965   0.21276195  1.47374791 -1.000977   -0.15336    -0.47999547\n",
            " -0.31361346  0.27562769  1.32946568  0.06761036  1.42299029  1.30408943\n",
            " -0.29495228  0.60654918  0.35951555 -0.835254   -0.01501198  0.9216576\n",
            "  0.07662144 -0.19572221 -0.5147668   0.83465759 -1.35904867  0.72521821\n",
            " -0.50617164  0.56974095 -1.24439444  0.54555498 -0.1188086   0.99265572\n",
            " -0.13259558  0.89769477 -0.97150904  0.89643252 -0.52269291  0.14171487\n",
            "  0.3128609   1.6078789  -1.54770982 -2.17038295 -0.96971107  1.79205039\n",
            "  0.04885494  0.91710974  0.02579688 -0.61661583 -1.05822518 -0.07187054\n",
            " -1.52359941  1.90111532 -1.06318837  0.09111153 -0.68444994  0.34499584\n",
            "  2.17610332 -1.03987987 -0.09541527 -2.01044307  0.21738006  0.52776694\n",
            "  0.28489288  0.42113558  0.28298746  0.86934574  0.31696954 -0.21728911\n",
            "  1.24029582  0.83633609  0.6594042   1.18108049  0.45580365 -0.42545399\n",
            "  2.10187834 -0.02569867 -0.43856948  1.33435173  0.0409098  -0.19216999\n",
            " -0.26886991  0.76851689  0.03115772  0.83536805]\n",
            "(100,)\n"
          ]
        },
        {
          "output_type": "execute_result",
          "data": {
            "text/plain": [
              "(array([ 2.,  2.,  2.,  2.,  2.,  8.,  3.,  7.,  5., 10., 11., 11.,  5.,\n",
              "        11.,  5.,  4.,  4.,  2.,  2.,  2.]),\n",
              " array([-2.17038295, -1.95305864, -1.73573433, -1.51841001, -1.3010857 ,\n",
              "        -1.08376139, -0.86643707, -0.64911276, -0.43178845, -0.21446413,\n",
              "         0.00286018,  0.2201845 ,  0.43750881,  0.65483312,  0.87215744,\n",
              "         1.08948175,  1.30680606,  1.52413038,  1.74145469,  1.958779  ,\n",
              "         2.17610332]),\n",
              " <BarContainer object of 20 artists>)"
            ]
          },
          "metadata": {},
          "execution_count": 21
        },
        {
          "output_type": "display_data",
          "data": {
            "text/plain": [
              "<Figure size 640x480 with 1 Axes>"
            ],
            "image/png": "[encoded data removed]"
          },
          "metadata": {}
        }
      ]
    },
    {
      "cell_type": "code",
      "source": [
        "plt.hist(x)"
      ],
      "metadata": {
        "colab": {
          "base_uri": "https://localhost:8080/",
          "height": 521
        },
        "id": "Dx3idNEyIx6g",
        "outputId": "ac18fc52-49b7-47ba-f7dc-66a219d09cdf"
      },
      "execution_count": 22,
      "outputs": [
        {
          "output_type": "execute_result",
          "data": {
            "text/plain": [
              "(array([ 4.,  4., 10., 10., 15., 22., 16.,  9.,  6.,  4.]),\n",
              " array([-2.17038295, -1.73573433, -1.3010857 , -0.86643707, -0.43178845,\n",
              "         0.00286018,  0.43750881,  0.87215744,  1.30680606,  1.74145469,\n",
              "         2.17610332]),\n",
              " <BarContainer object of 10 artists>)"
            ]
          },
          "metadata": {},
          "execution_count": 22
        },
        {
          "output_type": "display_data",
          "data": {
            "text/plain": [
              "<Figure size 640x480 with 1 Axes>"
            ],
            "image/png": "[encoded data removed]"
          },
          "metadata": {}
        }
      ]
    },
    {
      "cell_type": "code",
      "source": [],
      "metadata": {
        "id": "GkplkyYpJWTh"
      },
      "execution_count": null,
      "outputs": []
    }
  ]
}